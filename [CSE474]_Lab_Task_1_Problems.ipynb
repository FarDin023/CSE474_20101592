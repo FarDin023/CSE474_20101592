{
  "cells": [
    {
      "cell_type": "markdown",
      "metadata": {
        "id": "hztyX2bWu8JB"
      },
      "source": [
        "# Introduction to Python\n",
        "\n",
        "## Course: CSE474\n",
        "\n",
        "This assignment is to guide you to solve basic programming problems in Python. Since this is the first assignment, few problems are partially solved to help you. Go through them, try to understand and question each statment of the following questions and codes. If you can understand the problems and the solutions, solving more difficult problems would not seem so difficult. \n",
        "\n",
        "## Your tasks:\n",
        "\n",
        "- Solve these problems. \n",
        "- Upload these to your Github Repository (Naming Convention of The Repo: CSE474_YourID)\n",
        "- Send the Repository Link\n",
        "\n",
        "### Write the Python code of the following problems:"
      ]
    },
    {
      "cell_type": "markdown",
      "metadata": {
        "id": "WYFsQdfTu8JF"
      },
      "source": [
        "### Task 1\n",
        "\n",
        "Write Python code of a program that reads two numbers from the user, and prints their sum, product, and difference. Moreover, your program compare between the numbers and should then print “First is greater” if the first number is greater, “Second is greater” if the second number is greater, and “The numbers are equal” otherwise.\n",
        "\n",
        "\n",
        "*hint: Subtract the second number from the first one for difference*\n"
      ]
    },
    {
      "cell_type": "code",
      "execution_count": null,
      "metadata": {
        "id": "R15lwqqLu8JH",
        "colab": {
          "base_uri": "https://localhost:8080/"
        },
        "outputId": "eab56730-3d4f-426f-bd11-bee7ab830a4b"
      },
      "outputs": [
        {
          "output_type": "stream",
          "name": "stdout",
          "text": [
            "Enter First Number: 5\n",
            "Enter Secord Number: 6\n",
            "sum: 11\n",
            "product: 30\n",
            "difference: 1\n",
            "Second is greater\n"
          ]
        }
      ],
      "source": [
        "a = input(\"Enter First Number: \")\n",
        "b = input(\"Enter Secord Number: \")\n",
        "a = int(a)\n",
        "b = int(b)\n",
        "\n",
        "print ('sum:',a+b)\n",
        "print ('product:',a*b)\n",
        "if a>b :\n",
        "  print ('difference:',a-b)\n",
        "  print (\"First is greater\")\n",
        "if a<b :\n",
        "  print ('difference:',b-a)\n",
        "  print (\"Second is greater\")\n",
        "else :\n",
        "  print ('difference:',a-b)\n",
        "  print (\"The numbers are equal\")"
      ]
    },
    {
      "cell_type": "markdown",
      "metadata": {
        "id": "3GTxNZP5u8JI"
      },
      "source": [
        "### Task 2\n",
        "\n",
        "Write Python code of a program that reads the radius of a circle and prints its circumference and area. Moreover, it will print “The number is even” or “The number is odd”, depending on whether the input number is even or odd. \n",
        "\n",
        "*hint 1: use the modulus (%) operator for even or odd*\n",
        "\n",
        "\n",
        "*hint 2: import math and then use math.pi for getting the value of pi. \n",
        "For details read from https://docs.python.org/3/library/math.html*\n",
        "\n"
      ]
    },
    {
      "cell_type": "code",
      "execution_count": null,
      "metadata": {
        "id": "WBF-fLyMu8JJ",
        "colab": {
          "base_uri": "https://localhost:8080/"
        },
        "outputId": "b928a52c-39bb-44b7-ccdc-542767d64a51"
      },
      "outputs": [
        {
          "output_type": "stream",
          "name": "stdout",
          "text": [
            "Enter Radius: 55\n",
            "The number is odd\n",
            "Circumference:  345.57519189487726\n",
            "Area:  9503.317777109125\n"
          ]
        }
      ],
      "source": [
        "import math\n",
        "\n",
        "r=input(\"Enter Radius: \")\n",
        "r=int(r)\n",
        "\n",
        "if r%2==0:\n",
        "  print (\"The number is even\")\n",
        "else:\n",
        "  print (\"The number is odd\")\n",
        "\n",
        "print ('Circumference: ', 2*math.pi*r)\n",
        "print ('Area: ', math.pi *r*r)\n",
        "\n"
      ]
    },
    {
      "cell_type": "markdown",
      "metadata": {
        "id": "H0DEalOfu8JJ"
      },
      "source": [
        "### Task 3\n",
        "\n",
        "Write Python code of a program that reads a student’s mark for a single subject, and prints out the corresponding grade for that mark. The mark ranges and corresponding grades are shown in the table below.\n",
        "\n",
        "*hint: This problem can be solved in two ways: top-down (starts from A) and bottom-up (starts from F)*\n",
        "\n",
        "\n",
        "| Marks | Grage|\n",
        "| --- | --- | \n",
        "|90 or above| A |\n",
        "|  |  | \n",
        "|80-89| B |\n",
        "|  |  | \n",
        "|70-79| C |\n",
        "|  |  | \n",
        "|60-69| D |\n",
        "|  |  | \n",
        "|50-59| E |\n",
        "|  |  | \n",
        "|Below 50| F |\n",
        "\n",
        "\n",
        "\n",
        "\n",
        "\n"
      ]
    },
    {
      "cell_type": "code",
      "execution_count": null,
      "metadata": {
        "id": "FsbplcNDu8JK",
        "colab": {
          "base_uri": "https://localhost:8080/"
        },
        "outputId": "23b4f002-f437-43a0-cc75-eacf9ea19694"
      },
      "outputs": [
        {
          "output_type": "stream",
          "name": "stdout",
          "text": [
            "85\n",
            "B\n"
          ]
        }
      ],
      "source": [
        "mark = int(input())\n",
        "\n",
        "if mark < 0 or mark > 100:\n",
        "  print(\"Invalid Marks\")\n",
        "elif mark >= 90 and mark <= 100:\n",
        "  print(\"A\")\n",
        "elif mark >= 80 and mark <= 89:\n",
        "  print(\"B\")\n",
        "elif mark >= 70 and mark <= 79:\n",
        "  print(\"C\")\n",
        "elif mark >= 60 and mark <= 69:\n",
        "  print(\"D\")\n",
        "elif mark >= 50 and mark <= 59:\n",
        "  print(\"E\")\n",
        "elif mark < 50:\n",
        "  print(\"F\")"
      ]
    },
    {
      "cell_type": "markdown",
      "metadata": {
        "id": "4PUvksxMu8JK"
      },
      "source": [
        "### Task 4\n",
        "\n",
        "Write Python code of a program to compute and display a person’s weekly salary as determined by the following conditions:\n",
        "If the hours worked are less than or equal to 40, the person receives Tk200.00 per hour, else the person receives Tk8000.00 plus Tk300.00 for each hour worked over 40 hours.\n",
        "The program should request the hours worked as input and should display the salary as output.\n",
        "\n",
        "**example1:**\\\n",
        "Input: 100\\\n",
        "Output: 26000\n",
        "\n",
        "**example2:**\\\n",
        "Input: 30\\\n",
        "Output: 6000\n"
      ]
    },
    {
      "cell_type": "code",
      "execution_count": null,
      "metadata": {
        "id": "Cpu7eUn5u8JM",
        "colab": {
          "base_uri": "https://localhost:8080/"
        },
        "outputId": "aae053eb-f643-47a4-a98f-3a21380bc0d3"
      },
      "outputs": [
        {
          "output_type": "stream",
          "name": "stdout",
          "text": [
            "45\n",
            "9500\n"
          ]
        }
      ],
      "source": [
        "hours_worked = int(input())\n",
        "\n",
        "if hours_worked <= 40:\n",
        "  salary = hours_worked * 200\n",
        "  print(salary)\n",
        "elif hours_worked > 40:\n",
        "  extra = hours_worked - 40\n",
        "  salary = 8000 + (extra * 300)\n",
        "  print(salary)"
      ]
    },
    {
      "cell_type": "markdown",
      "metadata": {
        "id": "LnYsXhNNu8JM"
      },
      "source": [
        "### Task 5\n",
        "Suppose the following expressions are used to calculate the values of L for different values of S:\n",
        "\n",
        "$L =  3000-125S^2$ \n",
        "if     $S<100$\n",
        "\n",
        "$ c =  \\frac{12000}{4+S^2/14900}$\n",
        "if     $S\\geq100$\n",
        "\n",
        "Write a Python code of a program that reads a value of S and then calculates the value of L.\\\n",
        "\n",
        "For example:\\\n",
        "If S=3, L= 1875.\\\n",
        "If S=120, L= 2416.2162162162163 \n",
        "\n",
        "\n",
        "*hints: You can import math and use math function for making squares math.pow(number, power)   Or you can simply write S**2.*"
      ]
    },
    {
      "cell_type": "code",
      "execution_count": null,
      "metadata": {
        "id": "Rn2MdaTgu8JN",
        "colab": {
          "base_uri": "https://localhost:8080/"
        },
        "outputId": "8e32afa1-b1fe-42b0-d39c-26bfb73b93cb"
      },
      "outputs": [
        {
          "output_type": "stream",
          "name": "stdout",
          "text": [
            "145\n",
            "2217.6744186046512\n"
          ]
        }
      ],
      "source": [
        "S = int(input())\n",
        "\n",
        "if S < 100:\n",
        "  L = 3000- (125 * S**2)\n",
        "  print(L)\n",
        "elif S >= 100:\n",
        "  L = (12000) / (4+(S**2/14900))\n",
        "  print(L) "
      ]
    },
    {
      "cell_type": "markdown",
      "metadata": {
        "id": "NS0Uy9kSu8JN"
      },
      "source": [
        "### Task 6\n",
        "\n",
        "Write python program, which prints the following sequences of values in loops:\n",
        "\n",
        "a)\t24, 18, 12, 6, 0, -6\\\n",
        "b)\t-10, -5, 0, 5, 10, 15, 20\\\n",
        "c)\t18, 27, 36, 45, 54, 63\\\n",
        "d)\t18,-27, 36,-45,54,-63\n",
        "\n",
        "**Hints(1):** Use a while loop for solving these problems.\n",
        "\n",
        "**Hints(2):** We are already familiar with the print() function. But when we use it to print any value it automatically adds an additional newline after each print statement.\n",
        "\n",
        "For example:\\\n",
        "print(1)\\\n",
        "print(2)\n",
        "\n",
        "Output:\\\n",
        "1\\\n",
        "2\n",
        "\n",
        "=====================================================================\n",
        "\n",
        "To solve this problem, in Python3, we need to add an extra argument (end = \" \") in the print function which tells the program to skip printing the additional newline.\n",
        "\n",
        "For example:\\\n",
        "print(1, end =\" \")\\\n",
        "print(2)\n",
        "\n",
        "Output:(prints the next output right to the previous one)\\\n",
        "12\n",
        "\n",
        "=====================================================================\n",
        "\n",
        "In Task-6(a), the loop counter should be initialized at 24 and the loop should terminate when the loop counter reaches -6. The difference between the first two values is 24-18=6. So the loop counter value is getting decremented by 6 in every iteration.\n",
        "\n",
        "For your understanding task 6(a) code is done for you.\n"
      ]
    },
    {
      "cell_type": "code",
      "execution_count": null,
      "metadata": {
        "id": "4PyuQRJuu8JO",
        "colab": {
          "base_uri": "https://localhost:8080/"
        },
        "outputId": "119d5760-579a-4ab8-ba60-f5422a777e98"
      },
      "outputs": [
        {
          "output_type": "stream",
          "name": "stdout",
          "text": [
            "24, 18, 12, 6, 0, -6"
          ]
        }
      ],
      "source": [
        "# a) 24, 18, 12, 6, 0, -6\n",
        "\n",
        "# initialize loop counter\n",
        "counter = 24\n",
        "\n",
        "# loop structure\n",
        "while counter >= -6:\n",
        "    \n",
        "    #inside loop body\n",
        "    if counter == -6:\n",
        "        print(counter, end = \"\") \n",
        "    else:\n",
        "        print(counter, end = \", \") \n",
        "     \n",
        "    counter = counter - 6 #updating loop counter\n",
        "    #inside loop body\n",
        "    \n",
        "#outside loop body"
      ]
    },
    {
      "cell_type": "code",
      "execution_count": null,
      "metadata": {
        "id": "NJ2tyeK4u8JP",
        "colab": {
          "base_uri": "https://localhost:8080/"
        },
        "outputId": "048a1828-c995-4927-d06b-dba390e83c8c"
      },
      "outputs": [
        {
          "output_type": "stream",
          "name": "stdout",
          "text": [
            "-10, -5, 0, 5, 10, 15, 20, "
          ]
        }
      ],
      "source": [
        "# b)-10, -5, 0, 5, 10, 15, 20\n",
        "start = -10\n",
        "for i in range(7):\n",
        "  print(start, end=\", \")\n",
        "  start += 5"
      ]
    },
    {
      "cell_type": "code",
      "execution_count": null,
      "metadata": {
        "id": "q7p6mSS9u8JQ",
        "colab": {
          "base_uri": "https://localhost:8080/"
        },
        "outputId": "c3878b4a-619f-4e52-ba6b-3fb6fa1a989a"
      },
      "outputs": [
        {
          "output_type": "stream",
          "name": "stdout",
          "text": [
            "18,27,36,45,54,63,"
          ]
        }
      ],
      "source": [
        "# c)18, 27, 36, 45, 54, 63\n",
        "var = 2\n",
        "for i in range(2,8):\n",
        "  print(var * 9, end = \",\")\n",
        "  var += 1"
      ]
    },
    {
      "cell_type": "markdown",
      "metadata": {
        "id": "9xH7rm-Bu8JQ"
      },
      "source": [
        "**Hints for 6(d):** \n",
        "\n",
        "print(5 * (-1)) gives output -5\\\n",
        "print(\"-\" + str(5)) gives output -5"
      ]
    },
    {
      "cell_type": "code",
      "execution_count": null,
      "metadata": {
        "id": "q0AZPBI1u8JQ",
        "colab": {
          "base_uri": "https://localhost:8080/"
        },
        "outputId": "a0e0e2fd-6883-4501-84e5-b7021ed643f1"
      },
      "outputs": [
        {
          "output_type": "stream",
          "name": "stdout",
          "text": [
            "18,-27,36,-45,54,-63,"
          ]
        }
      ],
      "source": [
        "# d)18,-27, 36,-45,54,-63\n",
        "var = 9\n",
        "for i in range(2,8):\n",
        "  print(var * i, end=\",\")\n",
        "  var *= -1\n"
      ]
    },
    {
      "cell_type": "markdown",
      "metadata": {
        "id": "kqpP9NeRu8JR"
      },
      "source": [
        "### Task 9\n",
        "Write a Python code to displays all the **odd numbers** between 10 and 50. (Using Loop)\n",
        "\n",
        "Output: 11 13 15 17 19 21 23 25 27 29 31 33 35 37 39 41 43 45 47 49\n"
      ]
    },
    {
      "cell_type": "code",
      "execution_count": null,
      "metadata": {
        "id": "LEbc4zwGu8JR",
        "colab": {
          "base_uri": "https://localhost:8080/"
        },
        "outputId": "cbf861ce-e246-4313-d5d6-b2720b24e81e"
      },
      "outputs": [
        {
          "output_type": "stream",
          "name": "stdout",
          "text": [
            "11 13 15 17 19 21 23 25 27 29 31 33 35 37 39 41 43 45 47 49 "
          ]
        }
      ],
      "source": [
        "for i in range(10,51):\n",
        "  if i % 2 != 0:\n",
        "    print(i, end=\" \")"
      ]
    },
    {
      "cell_type": "markdown",
      "metadata": {
        "id": "2_YFOJiqu8JR"
      },
      "source": [
        "### Task 7\n",
        "Write a Python code that will calculate the **value of y if the expression** of y is as follows (n is the input):  \n",
        "\n",
        "$y = 1^2 - 2^2 +3^2 -4^2 +5^2 .........+ n^2 $\n",
        "\n",
        "**Example:** \n",
        "\n",
        "If the user enters 10, y= -55 \\\n",
        "If the user enters 20, y= -210\n"
      ]
    },
    {
      "cell_type": "code",
      "execution_count": null,
      "metadata": {
        "id": "wLRv_oXzu8JR",
        "colab": {
          "base_uri": "https://localhost:8080/"
        },
        "outputId": "b0d016df-d846-4f3f-c8d0-5c11a49f87b0"
      },
      "outputs": [
        {
          "output_type": "stream",
          "name": "stdout",
          "text": [
            "20\n",
            "y=-210\n"
          ]
        }
      ],
      "source": [
        "n = int(input())\n",
        "total = 0\n",
        "for i in range(1, n+1):\n",
        "  if i % 2 == 0:\n",
        "    total += -1 * i**2\n",
        "  else:\n",
        "    total += i**2\n",
        "\n",
        "print(f\"y={total}\")"
      ]
    },
    {
      "cell_type": "markdown",
      "metadata": {
        "id": "yeZ45PfPu8JS"
      },
      "source": [
        "### Task 8\n",
        "Write a Python program that reads 10 numbers from the user. After reading each number, print all the numbers that have been entered so far. \n",
        "\n",
        "**Example:**\\\n",
        "After the user enters 3, prints “So far in the list: [3]”\\\n",
        "After the user enters 5, prints “So far in the list: [3, 5]”\\\n",
        "After the user enters 34, prints “So far in the list: [3, 5, 34]”\n"
      ]
    },
    {
      "cell_type": "code",
      "execution_count": null,
      "metadata": {
        "id": "aCbLOSrZu8JS",
        "colab": {
          "base_uri": "https://localhost:8080/"
        },
        "outputId": "7e447439-b5f3-424c-b675-273444364728"
      },
      "outputs": [
        {
          "output_type": "stream",
          "name": "stdout",
          "text": [
            "1\n",
            "[1]\n",
            "2\n",
            "[1, 2]\n",
            "3\n",
            "[1, 2, 3]\n",
            "4\n",
            "[1, 2, 3, 4]\n",
            "5\n",
            "[1, 2, 3, 4, 5]\n",
            "6\n",
            "[1, 2, 3, 4, 5, 6]\n",
            "7\n",
            "[1, 2, 3, 4, 5, 6, 7]\n",
            "8\n",
            "[1, 2, 3, 4, 5, 6, 7, 8]\n",
            "9\n",
            "[1, 2, 3, 4, 5, 6, 7, 8, 9]\n",
            "10\n",
            "[1, 2, 3, 4, 5, 6, 7, 8, 9, 10]\n"
          ]
        }
      ],
      "source": [
        "a = []\n",
        "for i in range(0,10):\n",
        "  u = int(input())\n",
        "  a.append(u)\n",
        "  print(a)"
      ]
    },
    {
      "cell_type": "markdown",
      "metadata": {
        "id": "YYGx-_ZQu8JS"
      },
      "source": [
        "### Task 9\n",
        "Write a function called **foo_moo** that takes a number as an argument and **returns** the following statements according the below mention conditions. Then, finally prints the statement in the function call. \n",
        "\n",
        "* \tIf the number is divisible by 2, it should return \"Foo\".\n",
        "*   If the number is divisible by 3, it should return \"Moo\". \n",
        "*   If the number is divisible by both 2 and 3, it should return \"FooMoo\".\n",
        "*   Otherwise, it returns \"Boo\".\n",
        "\n",
        "**Example1:** \\\n",
        "**Function Call:**\\\n",
        "foo_moo(5)\\\n",
        "**Output:**\\\n",
        "Boo\n",
        "\n",
        "=================\n",
        "\n",
        "\n",
        "**Example2:** \\\n",
        "**Function Call:**\\\n",
        "foo_moo(4)\\\n",
        "**Output:**\\\n",
        "Foo\n",
        "\n",
        "=================\n",
        "\n",
        "\n",
        "**Example3:** \\\n",
        "**Function Call:**\\\n",
        "foo_moo(6)\\\n",
        "**Output:**\\\n",
        "FooMoo\n",
        "\n"
      ]
    },
    {
      "cell_type": "code",
      "execution_count": null,
      "metadata": {
        "id": "VWUtBhFRu8JS",
        "colab": {
          "base_uri": "https://localhost:8080/"
        },
        "outputId": "4676d1b6-261f-4ec1-e956-b6722da1d056"
      },
      "outputs": [
        {
          "output_type": "stream",
          "name": "stdout",
          "text": [
            "FooMoo\n"
          ]
        }
      ],
      "source": [
        "def foo_moo(n):\n",
        "  if n % 2 == 0 and n % 3 == 0:\n",
        "    print(\"FooMoo\")\n",
        "  elif n % 2 == 0:\n",
        "    print(\"Foo\")\n",
        "  elif n % 3 == 0:\n",
        "    print(\"Moo\")\n",
        "\n",
        "foo_moo(6)"
      ]
    },
    {
      "cell_type": "markdown",
      "metadata": {
        "id": "84xLaCyBu8JS"
      },
      "source": [
        "### Task 10\n",
        "Write a function called **calculate_tax** that takes 3 arguments: your age, salary, and current job designation.\n",
        "\n",
        "\n",
        "Your first task is to take these arguments as user input and pass these values to the function.\n",
        "\n",
        "Your second task is to implement the function and calculate the tax as the following conditions:\n",
        "*  **NO TAX IF YOU ARE LESS THAN 18 YEARS OLD.**\n",
        "*  **NO TAX IF YOU ARE THE PRESIDENT OF THE COMPANY** \n",
        "*  No tax if you get paid less than 10,000\n",
        "*  5% tax if you get paid between 10K and 20K\n",
        "*  10% tax if you get paid more than 20K\n",
        "\n",
        "\n",
        "Finally return this tax value. Then print the returned value in the function call.\n",
        "\n",
        "**Example1:** \\\n",
        "**Input:**\\\n",
        "16\\\n",
        "20000\\\n",
        "Student\\\n",
        "**Function Call:**\\\n",
        "calculate_tax(16, 20000, 'Student')\\\n",
        "**Output:**\\\n",
        "0\n",
        "\n",
        "===================================\n",
        "\n",
        "**Example2:** \\\n",
        "**Input:**\\\n",
        "20\\\n",
        "18000\\\n",
        "assistant manager\\\n",
        "**Function Call:**\\\n",
        "calculate_tax(20, 18000, 'assistant manager')\\\n",
        "**Output:**\\\n",
        "900.0\n",
        "\n",
        "\n",
        "===================================\n",
        "\n",
        "**Example3:** \\\n",
        "**Input:**\\\n",
        "20\\\n",
        "22000\\\n",
        "assistant manager\\\n",
        "**Function Call:**\\\n",
        "calculate_tax(20, 22000, 'Assistant manager')\\\n",
        "**Output:**\\\n",
        "2200.0\n",
        "\n",
        "===================================\n",
        "\n",
        "\n",
        "**Example4:** \\\n",
        "**Input:**\\\n",
        "20\\\n",
        "122000\\\n",
        "president\\\n",
        "**Function Call:**\\\n",
        "calculate_tax(20, 122000, 'president')\\\n",
        "**Output:**\\\n",
        "0\n",
        " \n",
        "\n",
        "**Hints:**\\\n",
        "Here the job designation is a string, so it can be written in both uppercase and lower cases. So, you need to check the value ignoring the case.\n"
      ]
    },
    {
      "cell_type": "code",
      "execution_count": null,
      "metadata": {
        "id": "aC2cw2IZu8JT",
        "colab": {
          "base_uri": "https://localhost:8080/"
        },
        "outputId": "3202a871-0806-4353-e932-0290eec6964a"
      },
      "outputs": [
        {
          "output_type": "stream",
          "name": "stdout",
          "text": [
            "2200.0\n"
          ]
        }
      ],
      "source": [
        "def calculate_tax(age, salary, designation):\n",
        "  if age < 0 or designation == 'president' or salary < 10000:\n",
        "    print(0)\n",
        "  elif salary >= 10000 and salary <= 20000:\n",
        "    print(0.05*salary)\n",
        "  elif salary > 20000:\n",
        "    print(0.1*salary)\n",
        "\n",
        "calculate_tax(20,22000,'assitant manager')"
      ]
    },
    {
      "cell_type": "markdown",
      "metadata": {
        "id": "yUL-cK_Iu8JT"
      },
      "source": [
        "### Task 11\n",
        "Write a function which will take 1 argument, number of days.\n",
        "\n",
        "Your first task is to take the number of days as user input and pass the value to the function.\n",
        " \n",
        "Your second task is to implement the function and calculate the total number of years, number of months, and the remaining number of days as output. No need to return any value, print inside the function. \n",
        "\n",
        "**Note:** Assume, each year to be 365 days and month to be 30 days.\n",
        "\n",
        "**Hint:** Divide and mod the main input to get the desired output.\n",
        "\n",
        "**Input:**\\\n",
        "4330\\\n",
        "**Function Call:**\\\n",
        "function_name(4330)\\\n",
        "**Output:**\\\n",
        "11 years, 10 months and 15 days\n",
        "\n",
        "================================\n",
        "\n",
        "**Input:**\\\n",
        "2250\\\n",
        "**Function Call:**\\\n",
        "function_name(2250)\\\n",
        "**Output:**\\\n",
        "6 years, 2 months and 0 days"
      ]
    },
    {
      "cell_type": "code",
      "execution_count": null,
      "metadata": {
        "id": "x-8z5W4Vu8JT",
        "colab": {
          "base_uri": "https://localhost:8080/"
        },
        "outputId": "96a4a889-4dbb-47b7-bd98-6b735be8149b"
      },
      "outputs": [
        {
          "output_type": "stream",
          "name": "stdout",
          "text": [
            "6 years, 2 months and 0 days\n"
          ]
        }
      ],
      "source": [
        "def function_name(days):\n",
        "  year = days // 365\n",
        "  days = days - (year*365)\n",
        "  months = days // 30\n",
        "  days = days - (months * 30)\n",
        "\n",
        "  print(f\"{year} years, {months} months and {days} days\")\n",
        "\n",
        "function_name(2250)"
      ]
    },
    {
      "cell_type": "markdown",
      "metadata": {
        "id": "FK-Qn76yu8JT"
      },
      "source": [
        "### Task 12\n",
        "Write a function called **make_square** that takes a tuple in the parameter as a range of numbers (starting point and ending point (included)). The function should **return a dictionary** with the numbers as keys and its squares as values.\n",
        "\n",
        "**Example1:** \\\n",
        "**Function Call:**\\\n",
        "make_square((1,3))\\\n",
        "**Output:**\\\n",
        "{1: 1, 2: 4, 3: 9}\n",
        "\n",
        "====================================\n",
        "\n",
        "**Example2:** \\\n",
        "**Function Call:**\\\n",
        "make_square((5,9))\\\n",
        "**Output:**\\\n",
        "{5: 25, 6: 36, 7: 49, 8: 64, 9: 81}\n",
        "\n",
        "\n",
        "\n",
        "**Hints:** \\\n",
        "You need to declare a dictionary to store the result. You should use the range function to run the “for loop”.\n"
      ]
    },
    {
      "cell_type": "code",
      "execution_count": null,
      "metadata": {
        "id": "8-a-cxTdu8JT",
        "colab": {
          "base_uri": "https://localhost:8080/"
        },
        "outputId": "52eff0cd-91eb-4a57-bf25-5d31e8a86624"
      },
      "outputs": [
        {
          "output_type": "stream",
          "name": "stdout",
          "text": [
            "{5: 25, 6: 36, 7: 49, 8: 64, 9: 81}\n"
          ]
        }
      ],
      "source": [
        "def make_square(tup):\n",
        "  my_dict = {}\n",
        "  s = tup[0]\n",
        "  e = tup[1]\n",
        "\n",
        "  for i in range(s, e+1):\n",
        "    my_dict[i] = i**2\n",
        "\n",
        "  print(my_dict)\n",
        "\n",
        "make_square((5,9))"
      ]
    },
    {
      "cell_type": "markdown",
      "metadata": {
        "id": "27w7wFkeu8JU"
      },
      "source": [
        "### Task 13\n",
        "Write a function called **remove_odd** that takes a list of numbers that have both even and odd numbers mixed. \\\n",
        "Your function should remove all the odd numbers and **return a compact list** which only contains the even numbers. \n",
        "\n",
        "**Example1:** \\\n",
        "**Function Call:**\\\n",
        "remove_odd ([21, 33, 44, 66, 11, 1, 88, 45, 10, 9])\\\n",
        "**Output:**\\\n",
        "[44, 66, 88, 10]\n",
        "\n",
        "====================================\n",
        "\n",
        "**Example2:** \\\n",
        "**Function Call:**\\\n",
        "remove_odd ([11,2,3,4,5,2,0,5,3])\\\n",
        "**Output:**\\\n",
        "[2, 4, 2, 0]\n",
        "\n"
      ]
    },
    {
      "cell_type": "code",
      "execution_count": null,
      "metadata": {
        "id": "5P7lWBDnu8JU",
        "colab": {
          "base_uri": "https://localhost:8080/"
        },
        "outputId": "081cd60b-de08-4cbd-dd5f-8d428ae1b7df"
      },
      "outputs": [
        {
          "output_type": "stream",
          "name": "stdout",
          "text": [
            "[44, 66, 88, 10]\n"
          ]
        }
      ],
      "source": [
        "def remove_odd(li):\n",
        "  a = []\n",
        "  for i in li:\n",
        "    if i % 2 == 0:\n",
        "      a.append(i)\n",
        "\n",
        "  print(a)\n",
        "\n",
        "remove_odd([21, 33, 44, 66, 11, 1, 88, 45, 10, 9])"
      ]
    },
    {
      "cell_type": "markdown",
      "metadata": {
        "id": "2q4KOHeAu8JU"
      },
      "source": [
        "### Task 24\n",
        "Write a python function that will perform the basic calculation (addition, subtraction, multiplication and division) based on 3 arguments. They are:\n",
        "- Operator ('+', '-', '/', '*')\n",
        "- First Operand (any number)\n",
        "- Second Operand (any number)\n",
        "\n",
        "Your first task is to take these arguments as user input and pass the values to the function parameters.\n",
        "\n",
        "Your second task is to write a function and performs the calculation based on the given operator. Then, finally return the result in the function call and print the result.\n",
        "\n",
        "**Input:**\\\n",
        "\"+\"\\\n",
        "10\\\n",
        "20\\\n",
        "**Function Call:**\\\n",
        "function_name(\"+\", 10, 20)\\\n",
        "**Output:**\\\n",
        "30\n",
        "\n",
        "================================\n",
        "\n",
        "**Input:**\\\n",
        "\"*\"\\\n",
        "5.5\\\n",
        "2.5\\\n",
        "**Function Call:**\\\n",
        "function_name(\"*\", 5.5, 2.5)\\\n",
        "**Output:**\\\n",
        "13.75\n"
      ]
    },
    {
      "cell_type": "code",
      "execution_count": null,
      "metadata": {
        "id": "A84pAJBuu8JU",
        "colab": {
          "base_uri": "https://localhost:8080/"
        },
        "outputId": "ac6744f1-fb13-444b-f916-bd520cbfe3f0"
      },
      "outputs": [
        {
          "output_type": "stream",
          "name": "stdout",
          "text": [
            "*\n",
            "5.5\n",
            "2.5\n",
            "13.75\n"
          ]
        }
      ],
      "source": [
        "op = input()\n",
        "num1 = input()\n",
        "num2 = input()\n",
        "\n",
        "if '.' in num1 or '.' in num2:\n",
        "  num1 = float(num1)\n",
        "  num2 = float(num2)\n",
        "\n",
        "if op == '+':\n",
        "  print(num1 + num2)\n",
        "elif op == '-':\n",
        "  print(num1 - num2)\n",
        "elif op == '/':\n",
        "  print(num1 / num2)\n",
        "elif op == '*':\n",
        "  print(num1 * num2)"
      ]
    },
    {
      "cell_type": "markdown",
      "metadata": {
        "id": "wnp7voLou8JU"
      },
      "source": [
        "### Task 15\n",
        "You have been hired as an app developer for the company karon_tumi_bekar. The company plans to make an app for a grocery store where the user can order groceries and see the total amount to be paid in the cart section. \n",
        "\n",
        "To build this feature, you have to write a function that takes 2 arguments. They are:\n",
        "- order_items (must be a list)\n",
        "- location (default value should be set to \"Dhanmondi\")\n",
        "\n",
        "Your first task is to take a list of items from the user. Pass the list into the function parameter along with the optional location (Use default argument technique). (Also, no need to take location as input, pass this any value you want.) \n",
        "\n",
        "Your second task is to implement the function. In the function, create a dictionary for the items shown in the table. Calculate the total price of the items passed as a list to the function. Additionally, add a delivery fee of 30 taka if the location is Dhanmondi. Otherwise, add a delivery fee of 70 taka. Finally, return the value and print it.\n",
        "\n",
        "| Item | Price(Tk) |\n",
        "| --- | --- |\n",
        "| Rice | 105 |\n",
        "| Potato | 20 |\n",
        "| Chicken | 250 |\n",
        "| Beef | 510 |\n",
        "| Oil | 85 |\n",
        "\n",
        "**Hint:** The keys are the items and values are the corresponding price. Iterate the items in the list and check if the items in the list are available in the dictionary keys or not. If it is available, add the price.\n",
        "\n",
        "**Example:**\\\n",
        "function_name([\"Rice\", \"Beef\", \"Rice\"], \"Mohakhali\")\n",
        "\n",
        "total = 105 + 510 + 105 = 720 (Take the price of each item and add them.)\\\n",
        "total = 720 + 70 = 790 (Finally, add the delivery fee based on the location.)\n",
        "\n",
        "**Input:**\\\n",
        "[\"Rice\", \"Beef\", \"Rice\"]\\\n",
        "**Function Call:**\\\n",
        "function_name([\"Rice\", \"Beef\", \"Rice\"], \"Mohakhali\")\\\n",
        "**Output:**\\\n",
        "790\n",
        "\n",
        "==============================================\n",
        "\n",
        "**Input:**\\\n",
        "[\"Rice\", \"Beef\", \"Rice\"]\\\n",
        "**Function Call:**\\\n",
        "function_name([\"Rice\", \"Beef\", \"Rice\"])\\\n",
        "**Output:**\\\n",
        "750"
      ]
    },
    {
      "cell_type": "code",
      "execution_count": null,
      "metadata": {
        "id": "QDzByWZ0u8JV",
        "colab": {
          "base_uri": "https://localhost:8080/"
        },
        "outputId": "5554864a-5af3-4839-a6dc-22d50b273912"
      },
      "outputs": [
        {
          "output_type": "stream",
          "name": "stdout",
          "text": [
            "750\n"
          ]
        }
      ],
      "source": [
        "def karon_tumi_bekar(items, location=\"Dhanmondi\"):\n",
        "  my_dict = {\n",
        "      'Rice': 105,\n",
        "      'Potato': 20,\n",
        "      'Chicked': 250,\n",
        "      'Beef': 510,\n",
        "      'Oil': 85\n",
        "  }\n",
        "\n",
        "  total = 0\n",
        "\n",
        "  for i in items:\n",
        "    if i in my_dict:\n",
        "      total += my_dict[i]\n",
        "\n",
        "  if location == \"Dhanmondi\":\n",
        "    total += 30\n",
        "  else:\n",
        "    total += 70\n",
        "\n",
        "  print(total)\n",
        "\n",
        "karon_tumi_bekar([\"Rice\", \"Beef\", \"Rice\"])"
      ]
    },
    {
      "cell_type": "code",
      "source": [
        ""
      ],
      "metadata": {
        "id": "IyWgDlcNaIQd"
      },
      "execution_count": null,
      "outputs": []
    }
  ],
  "metadata": {
    "interpreter": {
      "hash": "e896f58382219557ed1cd87260c67d9e69d66db56889d9cde40c814aa57c370f"
    },
    "kernelspec": {
      "display_name": "Python 3.6.13 ('tf_gpu')",
      "language": "python",
      "name": "python3"
    },
    "language_info": {
      "codemirror_mode": {
        "name": "ipython",
        "version": 3
      },
      "file_extension": ".py",
      "mimetype": "text/x-python",
      "name": "python",
      "nbconvert_exporter": "python",
      "pygments_lexer": "ipython3",
      "version": "3.6.13"
    },
    "orig_nbformat": 4,
    "colab": {
      "name": "[CSE474]_Lab_Task_1_Problems.ipynb",
      "provenance": [],
      "collapsed_sections": []
    }
  },
  "nbformat": 4,
  "nbformat_minor": 0
}